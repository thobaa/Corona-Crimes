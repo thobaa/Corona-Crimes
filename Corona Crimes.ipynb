{
 "cells": [
  {
   "cell_type": "code",
   "execution_count": 31,
   "metadata": {},
   "outputs": [
    {
     "name": "stderr",
     "output_type": "stream",
     "text": [
      "/home/thomas/miniconda2/envs/tf1/lib/python3.7/site-packages/IPython/core/interactiveshell.py:3051: DtypeWarning: Columns (21) have mixed types. Specify dtype option on import or set low_memory=False.\n",
      "  interactivity=interactivity, compiler=compiler, result=result)\n"
     ]
    }
   ],
   "source": [
    "import pandas as pd\n",
    "import numpy as np\n",
    "crimes = pd.read_csv(\"~/Documents/Data/Crimes_-_2001_to_present.csv\")"
   ]
  },
  {
   "cell_type": "code",
   "execution_count": 69,
   "metadata": {},
   "outputs": [],
   "source": [
    "crimes2 = crimes[crimes.Year >= 2018]"
   ]
  },
  {
   "cell_type": "code",
   "execution_count": 70,
   "metadata": {},
   "outputs": [],
   "source": [
    "crimes2 = crimes2[crimes.Date >= \"03\"]"
   ]
  },
  {
   "cell_type": "code",
   "execution_count": 71,
   "metadata": {},
   "outputs": [
    {
     "name": "stderr",
     "output_type": "stream",
     "text": [
      "/home/thomas/miniconda2/envs/tf1/lib/python3.7/site-packages/ipykernel_launcher.py:1: UserWarning: Boolean Series key will be reindexed to match DataFrame index.\n",
      "  \"\"\"Entry point for launching an IPython kernel.\n"
     ]
    }
   ],
   "source": [
    "crimes2 = crimes2[crimes.Date <= \"04\"]"
   ]
  },
  {
   "cell_type": "code",
   "execution_count": 72,
   "metadata": {},
   "outputs": [
    {
     "data": {
      "text/plain": [
       "THEFT                                116741\n",
       "BATTERY                              111394\n",
       "CRIMINAL DAMAGE                       67968\n",
       "NARCOTICS                             67709\n",
       "OTHER OFFENSE                         40632\n",
       "ASSAULT                               38621\n",
       "BURGLARY                              29078\n",
       "MOTOR VEHICLE THEFT                   26870\n",
       "DECEPTIVE PRACTICE                    25214\n",
       "ROBBERY                               19118\n",
       "CRIMINAL TRESPASS                     18092\n",
       "WEAPONS VIOLATION                      6707\n",
       "PROSTITUTION                           6135\n",
       "PUBLIC PEACE VIOLATION                 4565\n",
       "OFFENSE INVOLVING CHILDREN             4222\n",
       "CRIM SEXUAL ASSAULT                    2211\n",
       "SEX OFFENSE                            2140\n",
       "INTERFERENCE WITH PUBLIC OFFICER       1428\n",
       "LIQUOR LAW VIOLATION                   1392\n",
       "ARSON                                  1036\n",
       "GAMBLING                                742\n",
       "HOMICIDE                                705\n",
       "KIDNAPPING                              598\n",
       "INTIMIDATION                            361\n",
       "STALKING                                337\n",
       "CRIMINAL SEXUAL ASSAULT                 129\n",
       "OBSCENITY                                73\n",
       "CONCEALED CARRY LICENSE VIOLATION        45\n",
       "NON-CRIMINAL                             12\n",
       "OTHER NARCOTIC VIOLATION                 11\n",
       "PUBLIC INDECENCY                          9\n",
       "HUMAN TRAFFICKING                         8\n",
       "RITUALISM                                 3\n",
       "NON-CRIMINAL (SUBJECT SPECIFIED)          1\n",
       "Name: Primary Type, dtype: int64"
      ]
     },
     "execution_count": 72,
     "metadata": {},
     "output_type": "execute_result"
    }
   ],
   "source": [
    "crimes2[\"Primary Type\"].value_counts()"
   ]
  },
  {
   "cell_type": "code",
   "execution_count": 40,
   "metadata": {},
   "outputs": [],
   "source": [
    "import matplotlib.pyplot as plt"
   ]
  },
  {
   "cell_type": "code",
   "execution_count": 73,
   "metadata": {},
   "outputs": [],
   "source": [
    "thefts = crimes2[crimes2[\"Primary Type\"] == \"THEFT\"]"
   ]
  },
  {
   "cell_type": "code",
   "execution_count": 140,
   "metadata": {},
   "outputs": [],
   "source": [
    "t = np.array([[sum(thefts.Year == y)] for y in range(2001,2021)])\n",
    "X = np.array([[i] for i in range(2001,2021)])"
   ]
  },
  {
   "cell_type": "code",
   "execution_count": 141,
   "metadata": {},
   "outputs": [
    {
     "data": {
      "text/plain": [
       "LinearRegression(copy_X=True, fit_intercept=True, n_jobs=None, normalize=False)"
      ]
     },
     "execution_count": 141,
     "metadata": {},
     "output_type": "execute_result"
    }
   ],
   "source": [
    "from sklearn.linear_model import LinearRegression\n",
    "\n",
    "lin_reg = LinearRegression()\n",
    "lin_reg.fit(X[0:19],t[0:19])"
   ]
  },
  {
   "cell_type": "code",
   "execution_count": 142,
   "metadata": {},
   "outputs": [
    {
     "data": {
      "text/plain": [
       "[<matplotlib.lines.Line2D at 0x7f16d383fd90>]"
      ]
     },
     "execution_count": 142,
     "metadata": {},
     "output_type": "execute_result"
    },
    {
     "data": {
      "image/png": "[encoded data removed]",
      "text/plain": [
       "<Figure size 432x288 with 1 Axes>"
      ]
     },
     "metadata": {
      "needs_background": "light"
     },
     "output_type": "display_data"
    }
   ],
   "source": [
    "plt.plot(X,t)\n",
    "X_new = np.array([[2001],[2020]])\n",
    "t_pred = lin_reg.predict(X_new)\n",
    "plt.plot(X_new, t_pred)"
   ]
  },
  {
   "cell_type": "code",
   "execution_count": 143,
   "metadata": {},
   "outputs": [
    {
     "data": {
      "text/plain": [
       "array([[-201.20350877]])"
      ]
     },
     "execution_count": 143,
     "metadata": {},
     "output_type": "execute_result"
    }
   ],
   "source": [
    "lin_reg.coef_"
   ]
  },
  {
   "cell_type": "code",
   "execution_count": 149,
   "metadata": {},
   "outputs": [
    {
     "data": {
      "text/plain": [
       "array([1021])"
      ]
     },
     "execution_count": 149,
     "metadata": {},
     "output_type": "execute_result"
    }
   ],
   "source": [
    "t[18]-t[19]"
   ]
  },
  {
   "cell_type": "code",
   "execution_count": null,
   "metadata": {},
   "outputs": [],
   "source": []
  }
 ],
 "metadata": {
  "kernelspec": {
   "display_name": "Python 3",
   "language": "python",
   "name": "python3"
  },
  "language_info": {
   "codemirror_mode": {
    "name": "ipython",
    "version": 3
   },
   "file_extension": ".py",
   "mimetype": "text/x-python",
   "name": "python",
   "nbconvert_exporter": "python",
   "pygments_lexer": "ipython3",
   "version": "3.7.6"
  }
 },
 "nbformat": 4,
 "nbformat_minor": 4
}
